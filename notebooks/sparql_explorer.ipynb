{
 "cells": [
  {
   "cell_type": "markdown",
   "id": "cb7d3aa2",
   "metadata": {},
   "source": [
    "# Setup"
   ]
  },
  {
   "cell_type": "code",
   "execution_count": null,
   "id": "256f14e3",
   "metadata": {},
   "outputs": [
    {
     "name": "stdout",
     "output_type": "stream",
     "text": [
      "Graph has 734 triples.\n"
     ]
    }
   ],
   "source": [
    "from rdflib import Graph\n",
    "\n",
    "g = Graph()\n",
    "g.parse(r\"../results/Plant-flower_visitor_interactions_ostrails_results.ttl\", format=\"ttl\")\n",
    "\n",
    "print(f\"Graph has {len(g)} triples.\")\n"
   ]
  },
  {
   "cell_type": "markdown",
   "id": "c06ec261",
   "metadata": {},
   "source": [
    "# 1"
   ]
  },
  {
   "cell_type": "code",
   "execution_count": 12,
   "id": "3cbe2259",
   "metadata": {},
   "outputs": [
    {
     "name": "stdout",
     "output_type": "stream",
     "text": [
      "(rdflib.term.URIRef('file:///C:/Users/berni/OneDrive%20-%20TU%20Wien/THESIS/Code/DMP-Evaluation/#A1.1_benchmark'), rdflib.term.Literal('A1.1'), rdflib.term.Literal('Communication protocol'))\n",
      "(rdflib.term.URIRef('file:///C:/Users/berni/OneDrive%20-%20TU%20Wien/THESIS/Code/DMP-Evaluation/#A1.2_benchmark'), rdflib.term.Literal('A1.2'), rdflib.term.Literal('Authentication and authorization service'))\n",
      "(rdflib.term.URIRef('file:///C:/Users/berni/OneDrive%20-%20TU%20Wien/THESIS/Code/DMP-Evaluation/#A2_benchmark'), rdflib.term.Literal('A2'), rdflib.term.Literal('Metadata repository'))\n",
      "(rdflib.term.URIRef('file:///C:/Users/berni/OneDrive%20-%20TU%20Wien/THESIS/Code/DMP-Evaluation/#F1_benchmark'), rdflib.term.Literal('F1'), rdflib.term.Literal('Identifier type'))\n",
      "(rdflib.term.URIRef('file:///C:/Users/berni/OneDrive%20-%20TU%20Wien/THESIS/Code/DMP-Evaluation/#F2_benchmark'), rdflib.term.Literal('F2'), rdflib.term.Literal('Metadata schema'))\n",
      "(rdflib.term.URIRef('file:///C:/Users/berni/OneDrive%20-%20TU%20Wien/THESIS/Code/DMP-Evaluation/#F3_benchmark'), rdflib.term.Literal('F3'), rdflib.term.Literal('Metadata-Data linking mechanism'))\n",
      "(rdflib.term.URIRef('file:///C:/Users/berni/OneDrive%20-%20TU%20Wien/THESIS/Code/DMP-Evaluation/#F4_benchmark'), rdflib.term.Literal('F4'), rdflib.term.Literal('Registry (searchable repository)'))\n",
      "(rdflib.term.URIRef('file:///C:/Users/berni/OneDrive%20-%20TU%20Wien/THESIS/Code/DMP-Evaluation/#I1_benchmark'), rdflib.term.Literal('I1'), rdflib.term.Literal('Knowledge representation language'))\n",
      "(rdflib.term.URIRef('file:///C:/Users/berni/OneDrive%20-%20TU%20Wien/THESIS/Code/DMP-Evaluation/#I2_benchmark'), rdflib.term.Literal('I2'), rdflib.term.Literal('Structured vocabulary'))\n",
      "(rdflib.term.URIRef('file:///C:/Users/berni/OneDrive%20-%20TU%20Wien/THESIS/Code/DMP-Evaluation/#I3_benchmark'), rdflib.term.Literal('I3'), rdflib.term.Literal('Qualified reference mechanism'))\n",
      "(rdflib.term.URIRef('file:///C:/Users/berni/OneDrive%20-%20TU%20Wien/THESIS/Code/DMP-Evaluation/#R1.1_benchmark'), rdflib.term.Literal('R1.1'), rdflib.term.Literal('Data usage license'))\n",
      "(rdflib.term.URIRef('file:///C:/Users/berni/OneDrive%20-%20TU%20Wien/THESIS/Code/DMP-Evaluation/#R1.2_benchmark'), rdflib.term.Literal('R1.2'), rdflib.term.Literal('Provenance model'))\n",
      "Number of benchmarks: 12\n"
     ]
    }
   ],
   "source": [
    "# Benchmarks\n",
    "query = \"\"\"\n",
    "PREFIX ftr: <https://w3id.org/ftr#>\n",
    "PREFIX dcterms: <http://purl.org/dc/terms/>\n",
    "\n",
    "SELECT ?benchmark ?identifier ?title\n",
    "WHERE {\n",
    "  ?benchmark a ftr:Benchmark ;\n",
    "             dcterms:identifier ?identifier ;\n",
    "             dcterms:title ?title .\n",
    "}\n",
    "\"\"\"\n",
    "for row in g.query(query):\n",
    "    print(row)\n",
    "\n",
    "# Count number of rows\n",
    "row_count = len(list(g.query(query)))\n",
    "print(f\"Number of benchmarks: {row_count}\")\n"
   ]
  },
  {
   "cell_type": "markdown",
   "id": "0682a3cb",
   "metadata": {},
   "source": [
    "# 2"
   ]
  },
  {
   "cell_type": "code",
   "execution_count": 13,
   "id": "2585a94f",
   "metadata": {},
   "outputs": [
    {
     "name": "stdout",
     "output_type": "stream",
     "text": [
      "#FIP01.Q1 Identifier type\n",
      "#FIP02.Q2 Identifier type\n"
     ]
    }
   ],
   "source": [
    "# Metrics and name of benchmark for F1\n",
    "query = \"\"\"\n",
    "PREFIX ftr: <https://w3id.org/ftr#>\n",
    "PREFIX dcterms: <http://purl.org/dc/terms/>\n",
    "\n",
    "SELECT ?metric ?title\n",
    "WHERE {\n",
    "  ?benchmark ftr:hasAssociatedMetric ?metric ;\n",
    "             dcterms:identifier \"F1\" ;\n",
    "             dcterms:title ?title .\n",
    "}\n",
    "\"\"\"\n",
    "for row in g.query(query):\n",
    "    print(row.metric, row.title)\n"
   ]
  },
  {
   "cell_type": "markdown",
   "id": "44ce600f",
   "metadata": {},
   "source": [
    "# 3"
   ]
  },
  {
   "cell_type": "code",
   "execution_count": 14,
   "id": "69b29542",
   "metadata": {},
   "outputs": [
    {
     "name": "stdout",
     "output_type": "stream",
     "text": [
      "(rdflib.term.URIRef('file:///C:/Users/berni/OneDrive%20-%20TU%20Wien/THESIS/Code/DMP-Evaluation/#Test_FIP03.Q3_result'), rdflib.term.Literal('Result for FIP03.Q3'), rdflib.term.Literal('None'))\n",
      "(rdflib.term.URIRef('file:///C:/Users/berni/OneDrive%20-%20TU%20Wien/THESIS/Code/DMP-Evaluation/#Test_FIP04.Q4_result'), rdflib.term.Literal('Result for FIP04.Q4'), rdflib.term.Literal('[\"doi\"]'))\n",
      "(rdflib.term.URIRef('file:///C:/Users/berni/OneDrive%20-%20TU%20Wien/THESIS/Code/DMP-Evaluation/#Test_FIP05.Q5_result'), rdflib.term.Literal('Result for FIP05.Q5'), rdflib.term.Literal('https://globalbioticinteractions.org/worldfair/'))\n",
      "(rdflib.term.URIRef('file:///C:/Users/berni/OneDrive%20-%20TU%20Wien/THESIS/Code/DMP-Evaluation/#Test_FIP05.Q5_result'), rdflib.term.Literal('Result for FIP05.Q5'), rdflib.term.Literal('https://zenodo.org/record/10669877'))\n",
      "(rdflib.term.URIRef('file:///C:/Users/berni/OneDrive%20-%20TU%20Wien/THESIS/Code/DMP-Evaluation/#Test_FIP06.Q6_result'), rdflib.term.Literal('Result for FIP06.Q6'), rdflib.term.Literal('https://globalbioticinteractions.org/worldfair/'))\n",
      "(rdflib.term.URIRef('file:///C:/Users/berni/OneDrive%20-%20TU%20Wien/THESIS/Code/DMP-Evaluation/#Test_FIP06.Q6_result'), rdflib.term.Literal('Result for FIP06.Q6'), rdflib.term.Literal('https://zenodo.org/record/10669877'))\n",
      "(rdflib.term.URIRef('file:///C:/Users/berni/OneDrive%20-%20TU%20Wien/THESIS/Code/DMP-Evaluation/#Test_FIP09.Q9_result'), rdflib.term.Literal('Result for FIP09.Q9'), rdflib.term.Literal('None'))\n",
      "(rdflib.term.URIRef('file:///C:/Users/berni/OneDrive%20-%20TU%20Wien/THESIS/Code/DMP-Evaluation/#Test_FIP10.Q10_result'), rdflib.term.Literal('Result for FIP10.Q10'), rdflib.term.Literal('None'))\n",
      "(rdflib.term.URIRef('file:///C:/Users/berni/OneDrive%20-%20TU%20Wien/THESIS/Code/DMP-Evaluation/#Test_FIP11.Q11_result'), rdflib.term.Literal('Result for FIP11.Q11'), rdflib.term.Literal('None'))\n",
      "(rdflib.term.URIRef('file:///C:/Users/berni/OneDrive%20-%20TU%20Wien/THESIS/Code/DMP-Evaluation/#Test_FIP12.Q12_result'), rdflib.term.Literal('Result for FIP12.Q12'), rdflib.term.Literal('None'))\n",
      "(rdflib.term.URIRef('file:///C:/Users/berni/OneDrive%20-%20TU%20Wien/THESIS/Code/DMP-Evaluation/#Test_FIP13.Q13_result'), rdflib.term.Literal('Result for FIP13.Q13'), rdflib.term.Literal('None'))\n",
      "(rdflib.term.URIRef('file:///C:/Users/berni/OneDrive%20-%20TU%20Wien/THESIS/Code/DMP-Evaluation/#Test_FIP14.Q14_result'), rdflib.term.Literal('Result for FIP14.Q14'), rdflib.term.Literal('None'))\n",
      "(rdflib.term.URIRef('file:///C:/Users/berni/OneDrive%20-%20TU%20Wien/THESIS/Code/DMP-Evaluation/#Test_FIP15.Q15_result'), rdflib.term.Literal('Result for FIP15.Q15'), rdflib.term.Literal('None'))\n",
      "(rdflib.term.URIRef('file:///C:/Users/berni/OneDrive%20-%20TU%20Wien/THESIS/Code/DMP-Evaluation/#Test_FIP16.Q16_result'), rdflib.term.Literal('Result for FIP16.Q16'), rdflib.term.Literal('None'))\n",
      "(rdflib.term.URIRef('file:///C:/Users/berni/OneDrive%20-%20TU%20Wien/THESIS/Code/DMP-Evaluation/#Test_FIP17.Q17_result'), rdflib.term.Literal('Result for FIP17.Q17'), rdflib.term.Literal('None'))\n",
      "(rdflib.term.URIRef('file:///C:/Users/berni/OneDrive%20-%20TU%20Wien/THESIS/Code/DMP-Evaluation/#Test_FIP20.Q20_result'), rdflib.term.Literal('Result for FIP20.Q20'), rdflib.term.Literal('[\"Species identifications confirmed by taxonomists\", \"Data curated by REBIPP team\", \"FAIRfication followed WorldFAIR D10.2 guidelines\"]'))\n",
      "(rdflib.term.URIRef('file:///C:/Users/berni/OneDrive%20-%20TU%20Wien/THESIS/Code/DMP-Evaluation/#Test_FIP21.Q21_result'), rdflib.term.Literal('Result for FIP21.Q21'), rdflib.term.Literal('[\"Species identifications confirmed by taxonomists\", \"Data curated by REBIPP team\", \"FAIRfication followed WorldFAIR D10.2 guidelines\"]'))\n",
      "Number of failed tests: 17\n",
      "Number of failed tests (distinct titles): 15\n"
     ]
    }
   ],
   "source": [
    "# Failed tsts\n",
    "query = \"\"\"\n",
    "PREFIX ftr: <https://w3id.org/ftr#>\n",
    "PREFIX prov: <http://www.w3.org/ns/prov#>\n",
    "PREFIX dcterms: <http://purl.org/dc/terms/>\n",
    "\n",
    "SELECT DISTINCT ?testResult ?title ?log\n",
    "WHERE {\n",
    "  ?testResult a ftr:TestResult ;\n",
    "              prov:value \"fail\" ;\n",
    "              dcterms:title ?title ;\n",
    "              ftr:log ?log .\n",
    "}\n",
    "\"\"\"\n",
    "for row in g.query(query):\n",
    "    print(row)\n",
    "    \n",
    "\n",
    "# Print the sum of failed tests\n",
    "failed_count = len(list(g.query(query)))\n",
    "print(f\"Number of failed tests: {failed_count}\")\n",
    "\n",
    "distinct_titles = set(row.title for row in g.query(query))\n",
    "failed_count = len(distinct_titles)\n",
    "print(f\"Number of failed tests (distinct titles): {failed_count}\")\n"
   ]
  },
  {
   "cell_type": "markdown",
   "id": "c1daad31",
   "metadata": {},
   "source": [
    "# 4"
   ]
  },
  {
   "cell_type": "code",
   "execution_count": 15,
   "id": "66bfea86",
   "metadata": {},
   "outputs": [
    {
     "name": "stdout",
     "output_type": "stream",
     "text": [
      "(rdflib.term.URIRef('file:///C:/Users/berni/OneDrive%20-%20TU%20Wien/THESIS/Code/DMP-Evaluation/#Test_FIP01.Q1_result'), rdflib.term.Literal('Result for FIP01.Q1'), rdflib.term.Literal('https://doi.org/10.5281/zenodo.10669877'))\n",
      "(rdflib.term.URIRef('file:///C:/Users/berni/OneDrive%20-%20TU%20Wien/THESIS/Code/DMP-Evaluation/#Test_FIP02.Q2_result'), rdflib.term.Literal('Result for FIP02.Q2'), rdflib.term.Literal('https://doi.org/10.5281/zenodo.10669877'))\n",
      "(rdflib.term.URIRef('file:///C:/Users/berni/OneDrive%20-%20TU%20Wien/THESIS/Code/DMP-Evaluation/#Test_FIP07.Q7_result'), rdflib.term.Literal('Result for FIP07.Q7'), rdflib.term.Literal('https://globalbioticinteractions.org'))\n",
      "(rdflib.term.URIRef('file:///C:/Users/berni/OneDrive%20-%20TU%20Wien/THESIS/Code/DMP-Evaluation/#Test_FIP07.Q7_result'), rdflib.term.Literal('Result for FIP07.Q7'), rdflib.term.Literal('https://zenodo.org'))\n",
      "(rdflib.term.URIRef('file:///C:/Users/berni/OneDrive%20-%20TU%20Wien/THESIS/Code/DMP-Evaluation/#Test_FIP08.Q8_result'), rdflib.term.Literal('Result for FIP08.Q8'), rdflib.term.Literal('https://globalbioticinteractions.org'))\n",
      "(rdflib.term.URIRef('file:///C:/Users/berni/OneDrive%20-%20TU%20Wien/THESIS/Code/DMP-Evaluation/#Test_FIP08.Q8_result'), rdflib.term.Literal('Result for FIP08.Q8'), rdflib.term.Literal('https://zenodo.org'))\n",
      "(rdflib.term.URIRef('file:///C:/Users/berni/OneDrive%20-%20TU%20Wien/THESIS/Code/DMP-Evaluation/#Test_FIP18.Q18_result'), rdflib.term.Literal('Result for FIP18.Q18'), rdflib.term.Literal('https://creativecommons.org/licenses/by/4.0/'))\n",
      "(rdflib.term.URIRef('file:///C:/Users/berni/OneDrive%20-%20TU%20Wien/THESIS/Code/DMP-Evaluation/#Test_FIP19.Q19_result'), rdflib.term.Literal('Result for FIP19.Q19'), rdflib.term.Literal('https://creativecommons.org/licenses/by/4.0/'))\n",
      "Number of passed tests: 8\n",
      "Number of passed tests (distinct titles): 6\n"
     ]
    }
   ],
   "source": [
    "# Passed tests \n",
    "query = \"\"\"\n",
    "PREFIX ftr: <https://w3id.org/ftr#>\n",
    "PREFIX prov: <http://www.w3.org/ns/prov#>\n",
    "PREFIX dcterms: <http://purl.org/dc/terms/>\n",
    "\n",
    "SELECT ?testResult ?title ?maDMP_value\n",
    "WHERE {\n",
    "  ?testResult a ftr:TestResult ;\n",
    "              prov:value \"pass\" ;\n",
    "              dcterms:title ?title ;\n",
    "              ftr:log ?maDMP_value .\n",
    "}\n",
    "\"\"\"\n",
    "for row in g.query(query):\n",
    "    print(row)\n",
    "\n",
    "# Print the sum of passed tests\n",
    "passed_count = len(list(g.query(query)))\n",
    "print(f\"Number of passed tests: {passed_count}\")\n",
    "\n",
    "# Print the sum of passed tests (distinct titles)\\n\",\n",
    "distinct_titles = set(row.title for row in g.query(query))\n",
    "passed_count = len(distinct_titles)\n",
    "print(f\"Number of passed tests (distinct titles): {passed_count}\")"
   ]
  },
  {
   "cell_type": "markdown",
   "id": "bae80e91",
   "metadata": {},
   "source": [
    "# 5"
   ]
  },
  {
   "cell_type": "code",
   "execution_count": 16,
   "id": "df9e2e45",
   "metadata": {},
   "outputs": [
    {
     "name": "stdout",
     "output_type": "stream",
     "text": [
      "Result for FIP18.Q18 \"https://creativecommons.org/licenses/by/4.0/\" Compliant\n",
      "Result for FIP19.Q19 \"https://creativecommons.org/licenses/by/4.0/\" Compliant\n"
     ]
    }
   ],
   "source": [
    "# compliance of R1.1\n",
    "query = \"\"\"\n",
    "PREFIX ftr: <https://w3id.org/ftr#>\n",
    "PREFIX dcterms: <http://purl.org/dc/terms/>\n",
    "PREFIX base: <file:///C:/Users/berni/OneDrive%20-%20TU%20Wien/THESIS/Code/DMP-Evaluation/#>\n",
    "\n",
    "SELECT ?title ?maDMPvalue ?compliance\n",
    "WHERE {\n",
    "  base:R1.1_benchmark ftr:hasAssociatedMetric ?metric .\n",
    "  ?test dcterms:identifier ?testID ;\n",
    "        ftr:testMetric ?metric .\n",
    "  ?result ftr:outputFromTest ?testIDWithHash ;\n",
    "          dcterms:title ?title ;\n",
    "          dcterms:description ?desc .\n",
    "  FILTER( str(?testIDWithHash) = CONCAT(\"#\", str(?testID)) )\n",
    "  BIND( STRBEFORE( STRAFTER(?desc, \"maDMP value: [\"), \"]\") AS ?maDMPvalue )\n",
    "  BIND( STRAFTER(?desc, \"compliance: \") AS ?compliance )\n",
    "}\n",
    "\"\"\"\n",
    "\n",
    "for title, value, compliance in g.query(query):\n",
    "    print(title, value, compliance)"
   ]
  },
  {
   "cell_type": "markdown",
   "id": "0c23ac9a",
   "metadata": {},
   "source": [
    "# 6"
   ]
  },
  {
   "cell_type": "code",
   "execution_count": 17,
   "id": "8f0b2fc2",
   "metadata": {},
   "outputs": [
    {
     "name": "stdout",
     "output_type": "stream",
     "text": [
      "(rdflib.term.URIRef('file:///C:/Users/berni/OneDrive%20-%20TU%20Wien/THESIS/Code/DMP-Evaluation/#FIP12.Q12'), rdflib.term.Literal('Which knowledge representation languages (allowing machine interoperation) do you use for metadata records?'))\n",
      "(rdflib.term.URIRef('file:///C:/Users/berni/OneDrive%20-%20TU%20Wien/THESIS/Code/DMP-Evaluation/#FIP13.Q13'), rdflib.term.Literal('Which knowledge representation languages (allowing machine interoperation) do you use for datasets?'))\n",
      "(rdflib.term.URIRef('file:///C:/Users/berni/OneDrive%20-%20TU%20Wien/THESIS/Code/DMP-Evaluation/#FIP14.Q14'), rdflib.term.Literal('Which structured vocabularies do you use to annotate your metadata records?'))\n",
      "(rdflib.term.URIRef('file:///C:/Users/berni/OneDrive%20-%20TU%20Wien/THESIS/Code/DMP-Evaluation/#FIP15.Q15'), rdflib.term.Literal('Which structured vocabularies do you use to encode your datasets?'))\n",
      "(rdflib.term.URIRef('file:///C:/Users/berni/OneDrive%20-%20TU%20Wien/THESIS/Code/DMP-Evaluation/#FIP16.Q16'), rdflib.term.Literal('Which models, schema(s) do you use for your metadata records?'))\n",
      "(rdflib.term.URIRef('file:///C:/Users/berni/OneDrive%20-%20TU%20Wien/THESIS/Code/DMP-Evaluation/#FIP17.Q17'), rdflib.term.Literal('Which models, schema(s) do you use for your datasets?'))\n",
      "Number of metrics for Interoperability: 6\n"
     ]
    }
   ],
   "source": [
    "# Get all metrics related to FAIR principle \"Interoperability\" (I)\"\n",
    "query = \"\"\"\n",
    "PREFIX dqv: <http://www.w3.org/ns/dqv#>\n",
    "PREFIX dcterms: <http://purl.org/dc/terms/>\n",
    "\n",
    "SELECT ?metric ?description\n",
    "WHERE {\n",
    "  ?metric a dqv:Metric ;\n",
    "          dcterms:identifier ?id ;\n",
    "          dcterms:description ?description .\n",
    "  FILTER (?id IN (\"FIP12.Q12\", \"FIP13.Q13\", \"FIP14.Q14\", \"FIP15.Q15\", \"FIP16.Q16\", \"FIP17.Q17\"))\n",
    "}\n",
    "\"\"\"\n",
    "for row in g.query(query):\n",
    "    print(row)\n",
    "    # Count the number of metrics related to Interoperability\n",
    "metric_count = len(list(g.query(query)))\n",
    "print(f\"Number of metrics for Interoperability: {metric_count}\")\n"
   ]
  },
  {
   "cell_type": "markdown",
   "id": "f5c01555",
   "metadata": {},
   "source": [
    "# 7"
   ]
  },
  {
   "cell_type": "code",
   "execution_count": 18,
   "id": "9331eb7b",
   "metadata": {},
   "outputs": [
    {
     "name": "stdout",
     "output_type": "stream",
     "text": [
      "(rdflib.term.URIRef('file:///C:/Users/berni/OneDrive%20-%20TU%20Wien/THESIS/Code/DMP-Evaluation/#F1_benchmark'), rdflib.term.Literal('F1'), rdflib.term.Literal('Identifier type'))\n"
     ]
    }
   ],
   "source": [
    "# Show Benchmark of metric FIP02.Q2\n",
    "query = \"\"\"\n",
    "PREFIX ftr: <https://w3id.org/ftr#>\n",
    "PREFIX dcterms: <http://purl.org/dc/terms/>\n",
    "\n",
    "SELECT ?benchmark ?identifier ?title\n",
    "WHERE {\n",
    "  ?benchmark a ftr:Benchmark ;\n",
    "             ftr:hasAssociatedMetric \"#FIP02.Q2\" ;\n",
    "             dcterms:identifier ?identifier ;\n",
    "             dcterms:title ?title .\n",
    "}\n",
    "\"\"\"\n",
    "for row in g.query(query):\n",
    "    print(row)\n"
   ]
  },
  {
   "cell_type": "markdown",
   "id": "a5c19671",
   "metadata": {},
   "source": [
    "# 8"
   ]
  },
  {
   "cell_type": "code",
   "execution_count": 19,
   "id": "c4e38988",
   "metadata": {},
   "outputs": [
    {
     "name": "stdout",
     "output_type": "stream",
     "text": [
      "number of tests: 21\n"
     ]
    }
   ],
   "source": [
    "# No of test executed\n",
    "query = \"\"\"\n",
    "PREFIX ftr: <https://w3id.org/ftr#>\n",
    "\n",
    "SELECT (COUNT(?test) AS ?total_tests)\n",
    "WHERE {\n",
    "  ?test a ftr:Test .\n",
    "}\n",
    "\"\"\"\n",
    "#for row in g.query(query):\n",
    "    #print(row)\n",
    "\n",
    "for row in g.query(query):\n",
    "    print(f\"number of tests: {row.total_tests}\")\n"
   ]
  },
  {
   "cell_type": "markdown",
   "id": "cf42ff82",
   "metadata": {},
   "source": [
    "# 9"
   ]
  },
  {
   "cell_type": "code",
   "execution_count": 20,
   "id": "d8beb0c8",
   "metadata": {},
   "outputs": [
    {
     "name": "stdout",
     "output_type": "stream",
     "text": [
      "(rdflib.term.Literal('Result for FIP03.Q3'), rdflib.term.Literal('Field status: Not Present; maDMP value: null; compliance: Missing value'))\n",
      "(rdflib.term.Literal('Result for FIP09.Q9'), rdflib.term.Literal('Field status: Not Present; maDMP value: null; compliance: Missing value'))\n",
      "(rdflib.term.Literal('Result for FIP10.Q10'), rdflib.term.Literal('Field status: Not Present; maDMP value: null; compliance: Missing value'))\n",
      "(rdflib.term.Literal('Result for FIP14.Q14'), rdflib.term.Literal('Field status: Not Present; maDMP value: null; compliance: Missing value'))\n",
      "(rdflib.term.Literal('Result for FIP15.Q15'), rdflib.term.Literal('Field status: Not Present; maDMP value: null; compliance: Missing value'))\n",
      "(rdflib.term.Literal('Result for FIP16.Q16'), rdflib.term.Literal('Field status: Not Present; maDMP value: null; compliance: Missing value'))\n",
      "(rdflib.term.Literal('Result for FIP17.Q17'), rdflib.term.Literal('Field status: Not Present; maDMP value: null; compliance: Missing value'))\n",
      "Number of tests with missing value for compliance: 7\n"
     ]
    }
   ],
   "source": [
    "# Compliance mising value\n",
    "query = \"\"\"\n",
    "PREFIX ftr: <https://w3id.org/ftr#>\n",
    "PREFIX dcterms: <http://purl.org/dc/terms/>\n",
    "\n",
    "SELECT ?title ?description\n",
    "WHERE {\n",
    "  ?result a ftr:TestResult ;\n",
    "          dcterms:title ?title ;\n",
    "          dcterms:description ?description .\n",
    "  FILTER (CONTAINS(?description, \"Missing value\"))\n",
    "}\n",
    "\"\"\"\n",
    "for row in g.query(query):\n",
    "    print(row)\n",
    "\n",
    "# Count the number of tests with missing value for compliance\\n\",\n",
    "missing_value_count = len(list(g.query(query)))\n",
    "print(f\"Number of tests with missing value for compliance: {missing_value_count}\")\n"
   ]
  },
  {
   "cell_type": "markdown",
   "id": "b8e87231",
   "metadata": {},
   "source": [
    "# 10"
   ]
  },
  {
   "cell_type": "code",
   "execution_count": 21,
   "id": "66876026",
   "metadata": {},
   "outputs": [
    {
     "name": "stdout",
     "output_type": "stream",
     "text": [
      "(rdflib.term.URIRef('file:///C:/Users/berni/OneDrive%20-%20TU%20Wien/THESIS/Code/DMP-Evaluation/#A1.1_benchmark'), rdflib.term.Literal('Communication protocol'))\n",
      "(rdflib.term.URIRef('file:///C:/Users/berni/OneDrive%20-%20TU%20Wien/THESIS/Code/DMP-Evaluation/#A1.2_benchmark'), rdflib.term.Literal('Authentication and authorization service'))\n",
      "(rdflib.term.URIRef('file:///C:/Users/berni/OneDrive%20-%20TU%20Wien/THESIS/Code/DMP-Evaluation/#A2_benchmark'), rdflib.term.Literal('Metadata repository'))\n",
      "(rdflib.term.URIRef('file:///C:/Users/berni/OneDrive%20-%20TU%20Wien/THESIS/Code/DMP-Evaluation/#F1_benchmark'), rdflib.term.Literal('Identifier type'))\n",
      "(rdflib.term.URIRef('file:///C:/Users/berni/OneDrive%20-%20TU%20Wien/THESIS/Code/DMP-Evaluation/#F2_benchmark'), rdflib.term.Literal('Metadata schema'))\n",
      "(rdflib.term.URIRef('file:///C:/Users/berni/OneDrive%20-%20TU%20Wien/THESIS/Code/DMP-Evaluation/#F3_benchmark'), rdflib.term.Literal('Metadata-Data linking mechanism'))\n",
      "(rdflib.term.URIRef('file:///C:/Users/berni/OneDrive%20-%20TU%20Wien/THESIS/Code/DMP-Evaluation/#F4_benchmark'), rdflib.term.Literal('Registry (searchable repository)'))\n",
      "(rdflib.term.URIRef('file:///C:/Users/berni/OneDrive%20-%20TU%20Wien/THESIS/Code/DMP-Evaluation/#I1_benchmark'), rdflib.term.Literal('Knowledge representation language'))\n",
      "(rdflib.term.URIRef('file:///C:/Users/berni/OneDrive%20-%20TU%20Wien/THESIS/Code/DMP-Evaluation/#I2_benchmark'), rdflib.term.Literal('Structured vocabulary'))\n",
      "(rdflib.term.URIRef('file:///C:/Users/berni/OneDrive%20-%20TU%20Wien/THESIS/Code/DMP-Evaluation/#I3_benchmark'), rdflib.term.Literal('Qualified reference mechanism'))\n",
      "(rdflib.term.URIRef('file:///C:/Users/berni/OneDrive%20-%20TU%20Wien/THESIS/Code/DMP-Evaluation/#R1.1_benchmark'), rdflib.term.Literal('Data usage license'))\n",
      "(rdflib.term.URIRef('file:///C:/Users/berni/OneDrive%20-%20TU%20Wien/THESIS/Code/DMP-Evaluation/#R1.2_benchmark'), rdflib.term.Literal('Provenance model'))\n",
      "Number of benchmarks in algorithm: 12\n"
     ]
    }
   ],
   "source": [
    "# Benchamrrks in Algorithm\n",
    "query = \"\"\"\n",
    "PREFIX sio: <http://semanticscience.org/resource/>\n",
    "PREFIX dcterms: <http://purl.org/dc/terms/>\n",
    "PREFIX base: <file:///C:/Users/berni/OneDrive%20-%20TU%20Wien/THESIS/Code/DMP-Evaluation/#>\n",
    "\n",
    "SELECT ?benchmark ?title\n",
    "WHERE {\n",
    "    base:evaluation_algorithm sio:is-implementation-of ?id .\n",
    "    BIND(IRI(CONCAT(\"file:///C:/Users/berni/OneDrive%20-%20TU%20Wien/THESIS/Code/DMP-Evaluation/\", ?id)) AS ?benchmark)\n",
    "    ?benchmark dcterms:title ?title .\n",
    "}\n",
    "\"\"\"\n",
    "rows = list(g.query(query))\n",
    "for row in rows:\n",
    "    print(row)\n",
    "print(f\"Number of benchmarks in algorithm: {len(rows)}\")\n"
   ]
  }
 ],
 "metadata": {
  "kernelspec": {
   "display_name": "Python 3",
   "language": "python",
   "name": "python3"
  },
  "language_info": {
   "codemirror_mode": {
    "name": "ipython",
    "version": 3
   },
   "file_extension": ".py",
   "mimetype": "text/x-python",
   "name": "python",
   "nbconvert_exporter": "python",
   "pygments_lexer": "ipython3",
   "version": "3.10.11"
  }
 },
 "nbformat": 4,
 "nbformat_minor": 5
}
